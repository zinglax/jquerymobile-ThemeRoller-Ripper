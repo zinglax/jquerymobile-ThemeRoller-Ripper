{
 "cells": [
  {
   "cell_type": "markdown",
   "metadata": {},
   "source": [
    "# JQM-TR Ripper\n",
    "\n",
    "##### JQM Theme Roller\n",
    "*[colorgen theme was created here](https://themeroller.jquerymobile.com)*\n",
    "- Each Field Has a ***Unique Color***\n",
    " - w/ no 2 characters next to each other the same\n",
    " - Examples ***#42ACE3*** ***#B9027C*** and ***#087F20***\n",
    "- EXAMPLE JSON \n",
    "```json\n",
    "{u'themes': [{u'a': {u'active_state': {u'BG': u'#3388cc',\n",
    "                                       u'BRD': u'#50d750',\n",
    "                                       u'TC': u'#603813',\n",
    "                                       u'TS': u'#005599'},\n",
    "                     u'body': {u'BG': u'#d9e021',\n",
    "                               u'BRD': u'#8cc63f',\n",
    "                               u'TC': u'#ffcc33',\n",
    "                               u'TS': u'#fcee21'},\n",
    "                     u'bt_hover': {u'BG': u'#4d145a',\n",
    "                                   u'BRD': u'#ed1e79',\n",
    "                                   u'TC': u'#662991',\n",
    "                                   u'TS': u'#93278f'},\n",
    "                     u'bt_normal': {u'BG': u'#0071bc',\n",
    "                                    u'BRD': u'#2e3192',\n",
    "                                    u'TC': u'#33ccff',\n",
    "                                    u'TS': u'#29abe2'},\n",
    "                     u'bt_pressed': {u'BG': u'#c69c6d',\n",
    "                                     u'BRD': u'#8c6239',\n",
    "                                     u'TC': u'#c7b299',\n",
    "                                     u'TS': u'#736357'},\n",
    "                     u'header_footer_bar': {u'BG': u'#ed1c24',\n",
    "                                            u'BRD': u'#f7931e',\n",
    "                                            u'TC': u'#000000',\n",
    "                                            u'TS': u'#c1272d'},\n",
    "                     u'link': {u'active': u'#00a99d',\n",
    "                               u'color': u'#009245',\n",
    "                               u'hover': u'#006837',\n",
    "                               u'visited': u'#33cccc'},\n",
    "                     u'page': {u'BG': u'#808080',\n",
    "                               u'BRD': u'#4d4d4d',\n",
    "                               u'TC': u'#e6e6e6',\n",
    "                               u'TS': u'#cccccc'}},\n",
    "              u'global': {u'box_shadow': u'#f2f2f2',\n",
    "                          u'disk_color': u'#ffffff'},\n",
    "              u'name': u'colorgen'}]}\n",
    "```\n",
    " \n",
    "\n",
    "\n"
   ]
  },
  {
   "cell_type": "code",
   "execution_count": 18,
   "metadata": {
    "collapsed": false
   },
   "outputs": [
    {
     "ename": "AttributeError",
     "evalue": "'module' object has no attribute 'colorgentwo_theme_dir'",
     "output_type": "error",
     "traceback": [
      "\u001b[1;31m---------------------------------------------------------------------------\u001b[0m",
      "\u001b[1;31mAttributeError\u001b[0m                            Traceback (most recent call last)",
      "\u001b[1;32m<ipython-input-18-f73a5cc485ea>\u001b[0m in \u001b[0;36m<module>\u001b[1;34m()\u001b[0m\n\u001b[0;32m      2\u001b[0m \u001b[1;32mimport\u001b[0m \u001b[0mJqmtRipper\u001b[0m\u001b[1;33m\u001b[0m\u001b[0m\n\u001b[0;32m      3\u001b[0m \u001b[1;33m\u001b[0m\u001b[0m\n\u001b[1;32m----> 4\u001b[1;33m \u001b[0mJqmtRipper\u001b[0m\u001b[1;33m.\u001b[0m\u001b[0mcolor_replace\u001b[0m\u001b[1;33m(\u001b[0m\u001b[0mJqmtRipper\u001b[0m\u001b[1;33m.\u001b[0m\u001b[0mcolorgentwo_theme_dir\u001b[0m\u001b[1;33m,\u001b[0m \u001b[0mJqmtRipper\u001b[0m\u001b[1;33m.\u001b[0m\u001b[0mtemp_themetwo_dir\u001b[0m\u001b[1;33m)\u001b[0m\u001b[1;33m\u001b[0m\u001b[0m\n\u001b[0m",
      "\u001b[1;31mAttributeError\u001b[0m: 'module' object has no attribute 'colorgentwo_theme_dir'"
     ]
    }
   ],
   "source": [
    "#from JqmtRipper import Jinjenv\n",
    "import JqmtRipper\n",
    "\n",
    "JqmtRipper.color_replace(JqmtRipper.colorgentwo_theme_dir, JqmtRipper.temp_themetwo_dir)"
   ]
  },
  {
   "cell_type": "code",
   "execution_count": 17,
   "metadata": {
    "collapsed": false
   },
   "outputs": [
    {
     "ename": "AttributeError",
     "evalue": "'module' object has no attribute 'temp_themetwo_dir'",
     "output_type": "error",
     "traceback": [
      "\u001b[1;31m---------------------------------------------------------------------------\u001b[0m",
      "\u001b[1;31mAttributeError\u001b[0m                            Traceback (most recent call last)",
      "\u001b[1;32m<ipython-input-17-8101aa921d43>\u001b[0m in \u001b[0;36m<module>\u001b[1;34m()\u001b[0m\n\u001b[0;32m      1\u001b[0m \u001b[1;32mimport\u001b[0m \u001b[0mJqmtRipper\u001b[0m\u001b[1;33m\u001b[0m\u001b[0m\n\u001b[0;32m      2\u001b[0m \u001b[1;33m\u001b[0m\u001b[0m\n\u001b[1;32m----> 3\u001b[1;33m \u001b[0mJqmtRipper\u001b[0m\u001b[1;33m.\u001b[0m\u001b[0mtemp_themetwo_dir\u001b[0m\u001b[1;33m\u001b[0m\u001b[0m\n\u001b[0m\u001b[0;32m      4\u001b[0m \u001b[0mJqmtRipper\u001b[0m\u001b[1;33m.\u001b[0m\u001b[0mcolorgentwo_theme_dir\u001b[0m\u001b[1;33m\u001b[0m\u001b[0m\n",
      "\u001b[1;31mAttributeError\u001b[0m: 'module' object has no attribute 'temp_themetwo_dir'"
     ]
    }
   ],
   "source": [
    "import JqmtRipper\n",
    "\n",
    "JqmtRipper.temp_themetwo_dir\n",
    "JqmtRipper.colorgentwo_theme_dir\n"
   ]
  },
  {
   "cell_type": "code",
   "execution_count": null,
   "metadata": {
    "collapsed": true
   },
   "outputs": [],
   "source": []
  }
 ],
 "metadata": {
  "kernelspec": {
   "display_name": "Python 2",
   "language": "python",
   "name": "python2"
  },
  "language_info": {
   "codemirror_mode": {
    "name": "ipython",
    "version": 2
   },
   "file_extension": ".py",
   "mimetype": "text/x-python",
   "name": "python",
   "nbconvert_exporter": "python",
   "pygments_lexer": "ipython2",
   "version": "2.7.6"
  }
 },
 "nbformat": 4,
 "nbformat_minor": 0
}
